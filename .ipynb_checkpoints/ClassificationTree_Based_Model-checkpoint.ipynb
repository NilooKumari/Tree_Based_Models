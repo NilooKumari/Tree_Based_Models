{
 "cells": [
  {
   "cell_type": "markdown",
   "metadata": {},
   "source": [
    "## Decision tree : overview\n",
    "    - Can solve both regression and classification problems\n",
    "    - Classic use of decision tree is analysis of segments in business data \n",
    "    - Decision tree classifiers recursively subset data to revel interesting patterns\n",
    "    - Data need to be split in such a way that subsets of data end up being dominated by one class of the target variable"
   ]
  },
  {
   "cell_type": "markdown",
   "metadata": {},
   "source": [
    "## Decision tree : algorithm\n",
    "    - Good split in context of classification problem: Greater the class imbalance,better the split\n",
    "    - Class imbalance can be measured by computing Gini or Entropy\n",
    "    - For each split the purity metric is computed\n",
    "    - Choose the variable which results in lowest value of purity metric\n",
    "    - Continue doing these till  some stopping criteria is met \n",
    "\n",
    "- Stopping Criterion\n",
    "    -Depth of the tree\n",
    "    -Improvement in purity metrics\n",
    "    -Value in terminal node"
   ]
  },
  {
   "cell_type": "markdown",
   "metadata": {},
   "source": [
    "## Decision tree : performance metrics\n",
    "    - Confusion metrics\n",
    "    - ROC curve\n",
    "    - Area under the curve\n",
    "-At the model level of decision tree rules are decided for predicting probabilities and classes"
   ]
  },
  {
   "cell_type": "markdown",
   "metadata": {},
   "source": [
    "## Decision tree : parameters and hyperparameters\n",
    "    - Purity metrics: Gini or Entropy\n",
    "    - Depth of the tree\n",
    "-These parameters are estimated using cross validation"
   ]
  },
  {
   "cell_type": "markdown",
   "metadata": {},
   "source": [
    "##  Implementing a decision tree: Classification tree"
   ]
  }
 ],
 "metadata": {
  "kernelspec": {
   "display_name": "Python 3",
   "language": "python",
   "name": "python3"
  },
  "language_info": {
   "codemirror_mode": {
    "name": "ipython",
    "version": 3
   },
   "file_extension": ".py",
   "mimetype": "text/x-python",
   "name": "python",
   "nbconvert_exporter": "python",
   "pygments_lexer": "ipython3",
   "version": "3.6.5"
  }
 },
 "nbformat": 4,
 "nbformat_minor": 2
}
